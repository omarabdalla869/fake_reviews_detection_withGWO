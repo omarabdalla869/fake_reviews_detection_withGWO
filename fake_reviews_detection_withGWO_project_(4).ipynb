{
  "cells": [
    {
      "cell_type": "code",
      "execution_count": null,
      "id": "7dc6f898-f564-4ecd-a740-3f1059a0dab9",
      "metadata": {
        "id": "7dc6f898-f564-4ecd-a740-3f1059a0dab9"
      },
      "outputs": [],
      "source": [
        "import pandas as pd\n",
        "from sklearn.model_selection import train_test_split\n",
        "from sklearn.feature_extraction.text import CountVectorizer\n",
        "from sklearn.metrics import classification_report, accuracy_score\n",
        "import matplotlib.pyplot as plt\n",
        "import string\n",
        "from nltk.corpus import stopwords\n",
        "import nltk\n",
        "from nltk.tokenize import word_tokenize\n",
        "import numpy as np\n",
        "from sklearn.preprocessing import LabelEncoder\n",
        "from sklearn.model_selection import train_test_split\n",
        "from tensorflow.keras.preprocessing.text import Tokenizer\n",
        "from tensorflow.keras.preprocessing.sequence import pad_sequences\n",
        "from tensorflow.keras.models import Sequential\n",
        "from tensorflow.keras.layers import Embedding, Flatten, Dense, Dropout\n",
        "from tensorflow.keras.utils import to_categorical\n",
        "import tensorflow as tf\n",
        "from tensorflow.keras.callbacks import EarlyStopping\n"
      ]
    },
    {
      "cell_type": "code",
      "execution_count": null,
      "id": "237c6eb2-6800-4f3a-a194-e16f7c8e908f",
      "metadata": {
        "id": "237c6eb2-6800-4f3a-a194-e16f7c8e908f",
        "outputId": "ed00d452-97c9-484f-e3c6-5b54949a49fe"
      },
      "outputs": [
        {
          "name": "stderr",
          "output_type": "stream",
          "text": [
            "[nltk_data] Downloading package stopwords to\n",
            "[nltk_data]     C:\\Users\\abdal\\AppData\\Roaming\\nltk_data...\n",
            "[nltk_data]   Package stopwords is already up-to-date!\n",
            "[nltk_data] Downloading package punkt to\n",
            "[nltk_data]     C:\\Users\\abdal\\AppData\\Roaming\\nltk_data...\n",
            "[nltk_data]   Package punkt is already up-to-date!\n"
          ]
        },
        {
          "data": {
            "text/plain": [
              "True"
            ]
          },
          "execution_count": 2,
          "metadata": {},
          "output_type": "execute_result"
        }
      ],
      "source": [
        "nltk.download('stopwords')\n",
        "nltk.download('punkt')\n"
      ]
    },
    {
      "cell_type": "code",
      "execution_count": null,
      "id": "502a0f59-5644-4dd0-afa5-46a5e22125fc",
      "metadata": {
        "id": "502a0f59-5644-4dd0-afa5-46a5e22125fc",
        "outputId": "d5b56bcb-6fe6-4e06-8e00-61f7ef750a17"
      },
      "outputs": [
        {
          "data": {
            "text/html": [
              "<div>\n",
              "<style scoped>\n",
              "    .dataframe tbody tr th:only-of-type {\n",
              "        vertical-align: middle;\n",
              "    }\n",
              "\n",
              "    .dataframe tbody tr th {\n",
              "        vertical-align: top;\n",
              "    }\n",
              "\n",
              "    .dataframe thead th {\n",
              "        text-align: right;\n",
              "    }\n",
              "</style>\n",
              "<table border=\"1\" class=\"dataframe\">\n",
              "  <thead>\n",
              "    <tr style=\"text-align: right;\">\n",
              "      <th></th>\n",
              "      <th>category</th>\n",
              "      <th>rating</th>\n",
              "      <th>label</th>\n",
              "      <th>text_</th>\n",
              "    </tr>\n",
              "  </thead>\n",
              "  <tbody>\n",
              "    <tr>\n",
              "      <th>0</th>\n",
              "      <td>Home_and_Kitchen_5</td>\n",
              "      <td>5.0</td>\n",
              "      <td>CG</td>\n",
              "      <td>Love this!  Well made, sturdy, and very comfor...</td>\n",
              "    </tr>\n",
              "    <tr>\n",
              "      <th>1</th>\n",
              "      <td>Home_and_Kitchen_5</td>\n",
              "      <td>5.0</td>\n",
              "      <td>CG</td>\n",
              "      <td>love it, a great upgrade from the original.  I...</td>\n",
              "    </tr>\n",
              "    <tr>\n",
              "      <th>2</th>\n",
              "      <td>Home_and_Kitchen_5</td>\n",
              "      <td>5.0</td>\n",
              "      <td>CG</td>\n",
              "      <td>This pillow saved my back. I love the look and...</td>\n",
              "    </tr>\n",
              "    <tr>\n",
              "      <th>3</th>\n",
              "      <td>Home_and_Kitchen_5</td>\n",
              "      <td>1.0</td>\n",
              "      <td>CG</td>\n",
              "      <td>Missing information on how to use it, but it i...</td>\n",
              "    </tr>\n",
              "    <tr>\n",
              "      <th>4</th>\n",
              "      <td>Home_and_Kitchen_5</td>\n",
              "      <td>5.0</td>\n",
              "      <td>CG</td>\n",
              "      <td>Very nice set. Good quality. We have had the s...</td>\n",
              "    </tr>\n",
              "  </tbody>\n",
              "</table>\n",
              "</div>"
            ],
            "text/plain": [
              "             category  rating label  \\\n",
              "0  Home_and_Kitchen_5     5.0    CG   \n",
              "1  Home_and_Kitchen_5     5.0    CG   \n",
              "2  Home_and_Kitchen_5     5.0    CG   \n",
              "3  Home_and_Kitchen_5     1.0    CG   \n",
              "4  Home_and_Kitchen_5     5.0    CG   \n",
              "\n",
              "                                               text_  \n",
              "0  Love this!  Well made, sturdy, and very comfor...  \n",
              "1  love it, a great upgrade from the original.  I...  \n",
              "2  This pillow saved my back. I love the look and...  \n",
              "3  Missing information on how to use it, but it i...  \n",
              "4  Very nice set. Good quality. We have had the s...  "
            ]
          },
          "execution_count": 3,
          "metadata": {},
          "output_type": "execute_result"
        }
      ],
      "source": [
        "df = pd.read_csv('fake reviews dataset.csv')\n",
        "df.head()"
      ]
    },
    {
      "cell_type": "code",
      "execution_count": null,
      "id": "a8aacdaa-2a77-4bab-a6e0-dbbac84740bb",
      "metadata": {
        "id": "a8aacdaa-2a77-4bab-a6e0-dbbac84740bb",
        "outputId": "610fcdcc-39c2-4be3-f144-4706621319c9"
      },
      "outputs": [
        {
          "data": {
            "text/plain": [
              "category    0\n",
              "rating      0\n",
              "label       0\n",
              "text_       0\n",
              "dtype: int64"
            ]
          },
          "execution_count": 4,
          "metadata": {},
          "output_type": "execute_result"
        }
      ],
      "source": [
        "df.isnull().sum()"
      ]
    },
    {
      "cell_type": "code",
      "execution_count": null,
      "id": "b7a940a4-2978-444c-8765-0e941ab7a0f1",
      "metadata": {
        "id": "b7a940a4-2978-444c-8765-0e941ab7a0f1",
        "outputId": "058455e2-408e-4d38-944d-59ffba066e88"
      },
      "outputs": [
        {
          "name": "stdout",
          "output_type": "stream",
          "text": [
            "<class 'pandas.core.frame.DataFrame'>\n",
            "RangeIndex: 40432 entries, 0 to 40431\n",
            "Data columns (total 4 columns):\n",
            " #   Column    Non-Null Count  Dtype  \n",
            "---  ------    --------------  -----  \n",
            " 0   category  40432 non-null  object \n",
            " 1   rating    40432 non-null  float64\n",
            " 2   label     40432 non-null  object \n",
            " 3   text_     40432 non-null  object \n",
            "dtypes: float64(1), object(3)\n",
            "memory usage: 1.2+ MB\n"
          ]
        }
      ],
      "source": [
        "df.info()"
      ]
    },
    {
      "cell_type": "code",
      "execution_count": null,
      "id": "a22fb831-4aec-44f2-8602-ea7e9bcd7280",
      "metadata": {
        "id": "a22fb831-4aec-44f2-8602-ea7e9bcd7280",
        "outputId": "58a3aef7-2065-487c-e781-b3ee88105196"
      },
      "outputs": [
        {
          "data": {
            "text/html": [
              "<div>\n",
              "<style scoped>\n",
              "    .dataframe tbody tr th:only-of-type {\n",
              "        vertical-align: middle;\n",
              "    }\n",
              "\n",
              "    .dataframe tbody tr th {\n",
              "        vertical-align: top;\n",
              "    }\n",
              "\n",
              "    .dataframe thead th {\n",
              "        text-align: right;\n",
              "    }\n",
              "</style>\n",
              "<table border=\"1\" class=\"dataframe\">\n",
              "  <thead>\n",
              "    <tr style=\"text-align: right;\">\n",
              "      <th></th>\n",
              "      <th>rating</th>\n",
              "    </tr>\n",
              "  </thead>\n",
              "  <tbody>\n",
              "    <tr>\n",
              "      <th>count</th>\n",
              "      <td>40432.000000</td>\n",
              "    </tr>\n",
              "    <tr>\n",
              "      <th>mean</th>\n",
              "      <td>4.256579</td>\n",
              "    </tr>\n",
              "    <tr>\n",
              "      <th>std</th>\n",
              "      <td>1.144354</td>\n",
              "    </tr>\n",
              "    <tr>\n",
              "      <th>min</th>\n",
              "      <td>1.000000</td>\n",
              "    </tr>\n",
              "    <tr>\n",
              "      <th>25%</th>\n",
              "      <td>4.000000</td>\n",
              "    </tr>\n",
              "    <tr>\n",
              "      <th>50%</th>\n",
              "      <td>5.000000</td>\n",
              "    </tr>\n",
              "    <tr>\n",
              "      <th>75%</th>\n",
              "      <td>5.000000</td>\n",
              "    </tr>\n",
              "    <tr>\n",
              "      <th>max</th>\n",
              "      <td>5.000000</td>\n",
              "    </tr>\n",
              "  </tbody>\n",
              "</table>\n",
              "</div>"
            ],
            "text/plain": [
              "             rating\n",
              "count  40432.000000\n",
              "mean       4.256579\n",
              "std        1.144354\n",
              "min        1.000000\n",
              "25%        4.000000\n",
              "50%        5.000000\n",
              "75%        5.000000\n",
              "max        5.000000"
            ]
          },
          "execution_count": 6,
          "metadata": {},
          "output_type": "execute_result"
        }
      ],
      "source": [
        "df.describe()"
      ]
    },
    {
      "cell_type": "code",
      "execution_count": null,
      "id": "19fafc1a-f892-4038-aa95-f5116a862f8e",
      "metadata": {
        "id": "19fafc1a-f892-4038-aa95-f5116a862f8e",
        "outputId": "2bcb0313-1256-4a10-96c8-95af7113b805"
      },
      "outputs": [
        {
          "data": {
            "text/plain": [
              "rating\n",
              "5.0    24559\n",
              "4.0     7965\n",
              "3.0     3786\n",
              "1.0     2155\n",
              "2.0     1967\n",
              "Name: count, dtype: int64"
            ]
          },
          "execution_count": 7,
          "metadata": {},
          "output_type": "execute_result"
        }
      ],
      "source": [
        "df['rating'].value_counts()"
      ]
    },
    {
      "cell_type": "code",
      "execution_count": null,
      "id": "1a9f839a-3c23-4432-bbbb-909e711004e7",
      "metadata": {
        "id": "1a9f839a-3c23-4432-bbbb-909e711004e7",
        "outputId": "6754631f-7ec9-44f0-92f5-72ebb3e9d32e"
      },
      "outputs": [
        {
          "data": {
            "image/png": "[encoded data removed]",
            "text/plain": [
              "<Figure size 1500x800 with 1 Axes>"
            ]
          },
          "metadata": {},
          "output_type": "display_data"
        }
      ],
      "source": [
        "plt.figure(figsize=(15,8))\n",
        "labels = df['rating'].value_counts().keys()\n",
        "values = df['rating'].value_counts().values\n",
        "explode = (0.1,0,0,0,0)\n",
        "plt.pie(values,labels=labels,explode=explode,shadow=True,autopct='%1.1f%%')\n",
        "plt.title('Proportion of each rating',fontweight='bold',fontsize=25,pad=20,color='crimson')\n",
        "plt.show()"
      ]
    },
    {
      "cell_type": "code",
      "execution_count": null,
      "id": "fe5a19b2-5a99-458c-b25c-7705f0c9beca",
      "metadata": {
        "id": "fe5a19b2-5a99-458c-b25c-7705f0c9beca"
      },
      "outputs": [],
      "source": [
        "def clean_text(text):\n",
        "    nopunc = [w for w in text if w not in string.punctuation]\n",
        "    nopunc = ''.join(nopunc)\n",
        "    return  ' '.join([word for word in nopunc.split() if word.lower() not in stopwords.words('english')])"
      ]
    },
    {
      "cell_type": "code",
      "execution_count": null,
      "id": "d2988f6f-cb5f-447a-b34c-64cba5788830",
      "metadata": {
        "id": "d2988f6f-cb5f-447a-b34c-64cba5788830",
        "outputId": "8c0a61f0-bb93-4351-b668-d709ffbeec5d"
      },
      "outputs": [
        {
          "data": {
            "text/plain": [
              "('Love this!  Well made, sturdy, and very comfortable.  I love it!Very pretty',\n",
              " 'Love Well made sturdy comfortable love itVery pretty')"
            ]
          },
          "execution_count": 10,
          "metadata": {},
          "output_type": "execute_result"
        }
      ],
      "source": [
        "df['text_'][0], clean_text(df['text_'][0])"
      ]
    },
    {
      "cell_type": "code",
      "execution_count": null,
      "id": "6fca2a92-6af5-419b-bc97-68ebbedc1666",
      "metadata": {
        "id": "6fca2a92-6af5-419b-bc97-68ebbedc1666",
        "outputId": "a952a13a-9412-4d75-c875-1bba25e019aa"
      },
      "outputs": [
        {
          "data": {
            "text/plain": [
              "0    Love Well made sturdy comfortable love itVery ...\n",
              "1    love great upgrade original Ive mine couple years\n",
              "2              pillow saved back love look feel pillow\n",
              "3          Missing information use great product price\n",
              "4                 nice set Good quality set two months\n",
              "Name: text_, dtype: object"
            ]
          },
          "execution_count": 11,
          "metadata": {},
          "output_type": "execute_result"
        }
      ],
      "source": [
        "df['text_'].head().apply(clean_text)"
      ]
    },
    {
      "cell_type": "code",
      "execution_count": null,
      "id": "26bb5f52-9db8-46ca-b17c-69a6953e6fa4",
      "metadata": {
        "id": "26bb5f52-9db8-46ca-b17c-69a6953e6fa4",
        "outputId": "1364b0db-2dd5-44d8-9192-a752961110f3"
      },
      "outputs": [
        {
          "data": {
            "text/plain": [
              "(40432, 4)"
            ]
          },
          "execution_count": 12,
          "metadata": {},
          "output_type": "execute_result"
        }
      ],
      "source": [
        "df.shape"
      ]
    },
    {
      "cell_type": "code",
      "execution_count": null,
      "id": "d471171b-807b-4af3-bdd7-33a16416417b",
      "metadata": {
        "id": "d471171b-807b-4af3-bdd7-33a16416417b"
      },
      "outputs": [],
      "source": [
        "df['text_'] = df['text_'].astype(str)"
      ]
    },
    {
      "cell_type": "code",
      "execution_count": null,
      "id": "e40e5556-c574-4ba1-8aad-0768057a8662",
      "metadata": {
        "id": "e40e5556-c574-4ba1-8aad-0768057a8662"
      },
      "outputs": [],
      "source": [
        "def preprocess(text):\n",
        "    return ' '.join([word for word in word_tokenize(text) if word not in stopwords.words('english') and not word.isdigit() and word not in string.punctuation])"
      ]
    },
    {
      "cell_type": "code",
      "execution_count": null,
      "id": "b2ac3a35-7652-42c8-8fc7-8baceb96cfbf",
      "metadata": {
        "id": "b2ac3a35-7652-42c8-8fc7-8baceb96cfbf",
        "outputId": "a2aef9c5-8dca-4f0a-c644-971d5314e21c"
      },
      "outputs": [
        {
          "data": {
            "text/plain": [
              "'Very nice set Good quality We set two months'"
            ]
          },
          "execution_count": 15,
          "metadata": {},
          "output_type": "execute_result"
        }
      ],
      "source": [
        "preprocess(df['text_'][4])"
      ]
    },
    {
      "cell_type": "code",
      "execution_count": null,
      "id": "04435e08-17f6-4cd8-bd6c-786c2fe3b2c4",
      "metadata": {
        "id": "04435e08-17f6-4cd8-bd6c-786c2fe3b2c4"
      },
      "outputs": [],
      "source": [
        "df['text_'][:10000] = df['text_'][:10000].apply(preprocess)"
      ]
    },
    {
      "cell_type": "code",
      "execution_count": null,
      "id": "39459a4a-a6dc-4620-b8ae-ebceececa779",
      "metadata": {
        "id": "39459a4a-a6dc-4620-b8ae-ebceececa779"
      },
      "outputs": [],
      "source": [
        "df['text_'][10001:20000] = df['text_'][10001:20000].apply(preprocess)"
      ]
    },
    {
      "cell_type": "code",
      "execution_count": null,
      "id": "0383d86d-5054-4b64-a9c1-b55bd9a72126",
      "metadata": {
        "id": "0383d86d-5054-4b64-a9c1-b55bd9a72126"
      },
      "outputs": [],
      "source": [
        "df['text_'][20001:30000] = df['text_'][20001:30000].apply(preprocess)"
      ]
    },
    {
      "cell_type": "code",
      "execution_count": null,
      "id": "9004486a-f625-490d-87b9-549f7c33cd28",
      "metadata": {
        "id": "9004486a-f625-490d-87b9-549f7c33cd28"
      },
      "outputs": [],
      "source": [
        "df['text_'][30001:40000] = df['text_'][30001:40000].apply(preprocess)"
      ]
    },
    {
      "cell_type": "code",
      "execution_count": null,
      "id": "9e95104a-975f-4b73-9030-342dba86d04d",
      "metadata": {
        "id": "9e95104a-975f-4b73-9030-342dba86d04d"
      },
      "outputs": [],
      "source": [
        "df['text_'][40001:40432] = df['text_'][40001:40432].apply(preprocess)"
      ]
    },
    {
      "cell_type": "code",
      "execution_count": null,
      "id": "8473fd4f-68b4-4e44-8e93-5d3828898fae",
      "metadata": {
        "id": "8473fd4f-68b4-4e44-8e93-5d3828898fae"
      },
      "outputs": [],
      "source": [
        "df['text_'] = df['text_'].str.lower()"
      ]
    },
    {
      "cell_type": "code",
      "execution_count": null,
      "id": "8a420b1f-12b6-4889-b578-f44a781c2657",
      "metadata": {
        "id": "8a420b1f-12b6-4889-b578-f44a781c2657"
      },
      "outputs": [],
      "source": [
        "lemmatizer = WordNetLemmatizer()\n",
        "def lemmatize_words(text):\n",
        "    return ' '.join([lemmatizer.lemmatize(word) for word in text.split()])\n",
        "df[\"text_\"] = df[\"text_\"].apply(lambda text: lemmatize_words(text))"
      ]
    },
    {
      "cell_type": "code",
      "execution_count": null,
      "id": "f6a76324-efde-41b8-aa9f-c204955fa5dc",
      "metadata": {
        "id": "f6a76324-efde-41b8-aa9f-c204955fa5dc"
      },
      "outputs": [],
      "source": [
        "df['text_'].head()"
      ]
    },
    {
      "cell_type": "code",
      "execution_count": null,
      "id": "d913f0c6-79d4-4f10-b368-ae59580ca579",
      "metadata": {
        "id": "d913f0c6-79d4-4f10-b368-ae59580ca579"
      },
      "outputs": [],
      "source": [
        "df.to_csv('Preprocessed Fake Reviews Detection Dataset.csv')"
      ]
    },
    {
      "cell_type": "code",
      "execution_count": null,
      "id": "5a509d1d-1a5e-4b99-b912-dbe3ff4a1956",
      "metadata": {
        "id": "5a509d1d-1a5e-4b99-b912-dbe3ff4a1956",
        "outputId": "8b930fc8-3c40-491a-fda3-ca25eb688bb4"
      },
      "outputs": [
        {
          "data": {
            "text/html": [
              "<div>\n",
              "<style scoped>\n",
              "    .dataframe tbody tr th:only-of-type {\n",
              "        vertical-align: middle;\n",
              "    }\n",
              "\n",
              "    .dataframe tbody tr th {\n",
              "        vertical-align: top;\n",
              "    }\n",
              "\n",
              "    .dataframe thead th {\n",
              "        text-align: right;\n",
              "    }\n",
              "</style>\n",
              "<table border=\"1\" class=\"dataframe\">\n",
              "  <thead>\n",
              "    <tr style=\"text-align: right;\">\n",
              "      <th></th>\n",
              "      <th>Unnamed: 0</th>\n",
              "      <th>category</th>\n",
              "      <th>rating</th>\n",
              "      <th>label</th>\n",
              "      <th>text_</th>\n",
              "    </tr>\n",
              "  </thead>\n",
              "  <tbody>\n",
              "    <tr>\n",
              "      <th>0</th>\n",
              "      <td>0</td>\n",
              "      <td>Home_and_Kitchen_5</td>\n",
              "      <td>5.0</td>\n",
              "      <td>CG</td>\n",
              "      <td>love well made sturdi comfort i love veri pretti</td>\n",
              "    </tr>\n",
              "    <tr>\n",
              "      <th>1</th>\n",
              "      <td>1</td>\n",
              "      <td>Home_and_Kitchen_5</td>\n",
              "      <td>5.0</td>\n",
              "      <td>CG</td>\n",
              "      <td>love great upgrad origin i 've mine coupl year</td>\n",
              "    </tr>\n",
              "    <tr>\n",
              "      <th>2</th>\n",
              "      <td>2</td>\n",
              "      <td>Home_and_Kitchen_5</td>\n",
              "      <td>5.0</td>\n",
              "      <td>CG</td>\n",
              "      <td>thi pillow save back i love look feel pillow</td>\n",
              "    </tr>\n",
              "    <tr>\n",
              "      <th>3</th>\n",
              "      <td>3</td>\n",
              "      <td>Home_and_Kitchen_5</td>\n",
              "      <td>1.0</td>\n",
              "      <td>CG</td>\n",
              "      <td>miss inform use great product price i</td>\n",
              "    </tr>\n",
              "    <tr>\n",
              "      <th>4</th>\n",
              "      <td>4</td>\n",
              "      <td>Home_and_Kitchen_5</td>\n",
              "      <td>5.0</td>\n",
              "      <td>CG</td>\n",
              "      <td>veri nice set good qualiti we set two month</td>\n",
              "    </tr>\n",
              "  </tbody>\n",
              "</table>\n",
              "</div>"
            ],
            "text/plain": [
              "   Unnamed: 0            category  rating label  \\\n",
              "0           0  Home_and_Kitchen_5     5.0    CG   \n",
              "1           1  Home_and_Kitchen_5     5.0    CG   \n",
              "2           2  Home_and_Kitchen_5     5.0    CG   \n",
              "3           3  Home_and_Kitchen_5     1.0    CG   \n",
              "4           4  Home_and_Kitchen_5     5.0    CG   \n",
              "\n",
              "                                              text_  \n",
              "0  love well made sturdi comfort i love veri pretti  \n",
              "1    love great upgrad origin i 've mine coupl year  \n",
              "2      thi pillow save back i love look feel pillow  \n",
              "3             miss inform use great product price i  \n",
              "4       veri nice set good qualiti we set two month  "
            ]
          },
          "execution_count": 3,
          "metadata": {},
          "output_type": "execute_result"
        }
      ],
      "source": [
        "df = pd.read_csv('Preprocessed Fake Reviews Detection Dataset.csv')\n",
        "df.head()"
      ]
    },
    {
      "cell_type": "code",
      "execution_count": null,
      "id": "b6e6d8d7-9ddd-4574-a1e9-81eb5b503587",
      "metadata": {
        "id": "b6e6d8d7-9ddd-4574-a1e9-81eb5b503587"
      },
      "outputs": [],
      "source": [
        "df.drop('Unnamed: 0',axis=1,inplace=True)"
      ]
    },
    {
      "cell_type": "code",
      "execution_count": null,
      "id": "5807cf73-055b-4962-8589-851d0194f5c6",
      "metadata": {
        "id": "5807cf73-055b-4962-8589-851d0194f5c6"
      },
      "outputs": [],
      "source": [
        "df.dropna(inplace=True)"
      ]
    },
    {
      "cell_type": "code",
      "execution_count": null,
      "id": "2ede056a-abf2-4516-b543-41f00ba75509",
      "metadata": {
        "id": "2ede056a-abf2-4516-b543-41f00ba75509"
      },
      "outputs": [],
      "source": [
        "df['length'] = df['text_'].apply(len)"
      ]
    },
    {
      "cell_type": "code",
      "execution_count": null,
      "id": "9976fe0d-ee15-4712-bc78-88bd392260a7",
      "metadata": {
        "id": "9976fe0d-ee15-4712-bc78-88bd392260a7",
        "outputId": "35f2f572-4f4d-4c4c-dd4e-81cc694fc00c"
      },
      "outputs": [
        {
          "name": "stdout",
          "output_type": "stream",
          "text": [
            "<class 'pandas.core.frame.DataFrame'>\n",
            "Index: 40431 entries, 0 to 40431\n",
            "Data columns (total 5 columns):\n",
            " #   Column    Non-Null Count  Dtype  \n",
            "---  ------    --------------  -----  \n",
            " 0   category  40431 non-null  object \n",
            " 1   rating    40431 non-null  float64\n",
            " 2   label     40431 non-null  object \n",
            " 3   text_     40431 non-null  object \n",
            " 4   length    40431 non-null  int64  \n",
            "dtypes: float64(1), int64(1), object(3)\n",
            "memory usage: 1.9+ MB\n"
          ]
        }
      ],
      "source": [
        "df.info()"
      ]
    },
    {
      "cell_type": "code",
      "execution_count": null,
      "id": "b6d3d5fe-933d-4b50-926f-2cbef5aeb176",
      "metadata": {
        "id": "b6d3d5fe-933d-4b50-926f-2cbef5aeb176",
        "outputId": "290ab8ed-8c75-4394-e6ad-8f383ab239cb"
      },
      "outputs": [
        {
          "data": {
            "image/png": "[encoded data removed]",
            "text/plain": [
              "<Figure size 640x480 with 1 Axes>"
            ]
          },
          "metadata": {},
          "output_type": "display_data"
        }
      ],
      "source": [
        "plt.hist(df['length'],bins=50)\n",
        "plt.show()"
      ]
    },
    {
      "cell_type": "code",
      "execution_count": null,
      "id": "f6fd7e14-2c45-4807-8bd3-190c4eae59e8",
      "metadata": {
        "id": "f6fd7e14-2c45-4807-8bd3-190c4eae59e8",
        "outputId": "42c01bc7-b21e-4450-f93f-ae0212f42748"
      },
      "outputs": [
        {
          "data": {
            "image/png": "[encoded data removed]",
            "text/plain": [
              "<Figure size 1200x500 with 2 Axes>"
            ]
          },
          "metadata": {},
          "output_type": "display_data"
        }
      ],
      "source": [
        "df.hist(column='length',by='label',bins=50,color='blue',figsize=(12,5))\n",
        "plt.show()"
      ]
    },
    {
      "cell_type": "code",
      "execution_count": null,
      "id": "a0fd6fbc-1bd1-4813-a46f-63b99ed6432d",
      "metadata": {
        "id": "a0fd6fbc-1bd1-4813-a46f-63b99ed6432d",
        "outputId": "4f8718c3-f673-4ae0-9c4a-57eab5a33b24"
      },
      "outputs": [
        {
          "data": {
            "text/plain": [
              "\"weak on current scienc after see twice i agre much posit five star review out respect read review i 'll repeat everyth i like present i found goofi over ear hairdo facial hair arrang daniel vitali describ `` wild food expert '' distract ugh ditto david wolf extrem goofi wild hairdo on hand jon gabriel describ `` author weight loss expert '' nice groom good present hi stori person transform fellow pound whew becom jock normal weight inspir christian northrup preserv rank one america 's cutest doctor a realli nice look woman present dr. mercola jason vale kri carr alejandro junger fine it disappoint jami oliv popular uk give babi cow growth fluid pas unscientif popular idea milk none present anyth zilch say work doctor t. colin campbel milk bodi bad it good see present take stand sugar they agre evil sugar refin carbohydr with respect dr. northrup `` it 's fat make fat 's sugar '' statement pas muster commun expert recogn evil sugar not mutual exclus recogn proven danger fat particularli fat dead anim extract fat all kind oliv oil not health food data-hook= '' product-link-link '' class= '' a-link-norm '' href= '' /the-china-study-the-most-comprehensive-study-of-nutrition-ever-conducted-and-the-startling-implications-for-diet-weight-loss-and-long-term-health/dp/1932100660/ref=cm_cr_arp_d_rvw_txt ie=utf8 '' the china studi the most comprehens studi nutrit ever conduct and startl implic diet weight loss and long-term health /a data-hook= '' product-link-link '' class= '' a-link-norm '' href= '' /forks-over-knives/dp/b0053zhzi2/ref=cm_cr_arp_d_rvw_txt ie=utf8 '' fork over knive /a data-hook= '' product-link-link '' class= '' a-link-norm '' href= '' /prevent-and-reverse-heart-disease-the-revolutionary-scientifically-proven-nutrition-based-cure/dp/1583333002/ref=cm_cr_arp_d_rvw_txt ie=utf8 '' prevent revers heart diseas the revolutionari scientif proven nutrition-bas cure /a data-hook= '' product-link-link '' class= '' a-link-norm '' href= '' /the-plant-based-journey-a-step-by-step-guide-for-transitioning-to-a-healthy-lifestyle-and-achieving-your-ideal-weight/dp/1941631363/ref=cm_cr_arp_d_rvw_txt ie=utf8 '' the plant-bas journey a step-by-step guid transit healthi lifestyl achiev your ideal weight /a\""
            ]
          },
          "execution_count": 10,
          "metadata": {},
          "output_type": "execute_result"
        }
      ],
      "source": [
        "df[df['label']=='OR'][['text_','length']].sort_values(by='length',ascending=False).head().iloc[0].text_"
      ]
    },
    {
      "cell_type": "code",
      "execution_count": null,
      "id": "43458b8b-3cd4-4c11-b25b-a955d254c269",
      "metadata": {
        "id": "43458b8b-3cd4-4c11-b25b-a955d254c269",
        "outputId": "b578fe30-3ae5-44b7-b3a9-7b6b31097e68"
      },
      "outputs": [
        {
          "data": {
            "text/plain": [
              "count    40431.000000\n",
              "mean       205.824219\n",
              "std        219.501587\n",
              "min          8.000000\n",
              "25%         64.000000\n",
              "50%        116.000000\n",
              "75%        253.000000\n",
              "max       2232.000000\n",
              "Name: length, dtype: float64"
            ]
          },
          "execution_count": 11,
          "metadata": {},
          "output_type": "execute_result"
        }
      ],
      "source": [
        "df.length.describe()"
      ]
    },
    {
      "cell_type": "code",
      "execution_count": null,
      "id": "0776dc98-fbfc-47c0-af4e-acb36e8133bf",
      "metadata": {
        "id": "0776dc98-fbfc-47c0-af4e-acb36e8133bf"
      },
      "outputs": [],
      "source": [
        "texts = df['text_'].astype(str).values\n",
        "labels = df['label'].values"
      ]
    },
    {
      "cell_type": "code",
      "execution_count": null,
      "id": "4d7377bb-fe04-4779-8287-9171965f3347",
      "metadata": {
        "id": "4d7377bb-fe04-4779-8287-9171965f3347"
      },
      "outputs": [],
      "source": [
        "label_encoder = LabelEncoder()\n",
        "labels_encoded = label_encoder.fit_transform(labels)\n",
        "labels_categorical = to_categorical(labels_encoded)"
      ]
    },
    {
      "cell_type": "code",
      "execution_count": null,
      "id": "5740a8e9-3f6d-4211-b7ea-e5071e58eb1a",
      "metadata": {
        "id": "5740a8e9-3f6d-4211-b7ea-e5071e58eb1a",
        "outputId": "5f7ccd1e-6304-446d-fcf0-0ca1d71d3d8c"
      },
      "outputs": [
        {
          "name": "stdout",
          "output_type": "stream",
          "text": [
            "Example original text: love well made sturdi comfort i love veri pretti\n",
            "Tokenized sequence: [5, 16, 51, 154, 71, 2, 5, 113, 109]\n",
            "Padded sequence: [  5  16  51 154  71   2   5 113 109   0   0   0   0   0   0   0   0   0\n",
            "   0   0   0   0   0   0   0   0   0   0   0   0   0   0   0   0   0   0\n",
            "   0   0   0   0   0   0   0   0   0   0   0   0   0   0   0   0   0   0\n",
            "   0   0   0   0   0   0   0   0   0   0   0   0   0   0   0   0   0   0\n",
            "   0   0   0   0   0   0   0   0   0   0   0   0   0   0   0   0   0   0\n",
            "   0   0   0   0   0   0   0   0   0   0]\n"
          ]
        }
      ],
      "source": [
        "\n",
        "vocab_size = 1000\n",
        "max_length = 100\n",
        "tokenizer = Tokenizer(num_words=vocab_size, oov_token=\"<OOV>\")\n",
        "tokenizer.fit_on_texts(texts)\n",
        "\n",
        "sequences = tokenizer.texts_to_sequences(texts)\n",
        "\n",
        "padded_sequences = pad_sequences(sequences, padding='post', maxlen=max_length)\n",
        "\n",
        "print(\"Example original text:\", texts[0])\n",
        "print(\"Tokenized sequence:\", sequences[0])\n",
        "print(\"Padded sequence:\", padded_sequences[0])\n"
      ]
    },
    {
      "cell_type": "code",
      "execution_count": null,
      "id": "3688c77b-2a1d-4dad-87c4-4b5bbf8bc16e",
      "metadata": {
        "id": "3688c77b-2a1d-4dad-87c4-4b5bbf8bc16e"
      },
      "outputs": [],
      "source": [
        "X_train, X_test, y_train, y_test = train_test_split(padded_sequences, labels_categorical, test_size=0.2, random_state=42)\n"
      ]
    },
    {
      "cell_type": "code",
      "execution_count": null,
      "id": "cc3de38f-5783-4fd9-a5dc-597a76f47083",
      "metadata": {
        "id": "cc3de38f-5783-4fd9-a5dc-597a76f47083"
      },
      "outputs": [],
      "source": [
        "\n",
        "model = Sequential([\n",
        "    Embedding(input_dim=vocab_size, output_dim=64, input_length=max_length),\n",
        "    Flatten(),\n",
        "    Dense(10, activation='relu'),\n",
        "    Dense(3, activation='relu'),\n",
        "    Dense(labels_categorical.shape[1], activation='softmax')\n",
        "])\n",
        "\n",
        "model.compile(optimizer='adam', loss='categorical_crossentropy', metrics=['accuracy'])\n",
        "\n",
        "\n"
      ]
    },
    {
      "cell_type": "code",
      "execution_count": null,
      "id": "f4a5c89c-1071-4a28-96d0-f1b8d5637ef0",
      "metadata": {
        "id": "f4a5c89c-1071-4a28-96d0-f1b8d5637ef0",
        "outputId": "a3c0f3d1-c16c-4f92-828a-456da701e8f4"
      },
      "outputs": [
        {
          "name": "stdout",
          "output_type": "stream",
          "text": [
            "Epoch 1/5\n",
            "1294/1294 [==============================] - 8s 6ms/step - loss: 0.1197 - accuracy: 0.9532 - val_loss: 0.2576 - val_accuracy: 0.9110\n",
            "Epoch 2/5\n",
            "1294/1294 [==============================] - 16s 12ms/step - loss: 0.0689 - accuracy: 0.9744 - val_loss: 0.2851 - val_accuracy: 0.9133\n",
            "Epoch 3/5\n",
            "1294/1294 [==============================] - 15s 11ms/step - loss: 0.0514 - accuracy: 0.9808 - val_loss: 0.3316 - val_accuracy: 0.9086\n",
            "Epoch 4/5\n",
            "1294/1294 [==============================] - 16s 12ms/step - loss: 0.0382 - accuracy: 0.9863 - val_loss: 0.3627 - val_accuracy: 0.9086\n",
            "Epoch 5/5\n",
            "1294/1294 [==============================] - 15s 12ms/step - loss: 0.0305 - accuracy: 0.9891 - val_loss: 0.4567 - val_accuracy: 0.9051\n",
            "253/253 [==============================] - 1s 3ms/step - loss: 0.4793 - accuracy: 0.9013\n",
            "Test Accuracy: 0.90\n"
          ]
        }
      ],
      "source": [
        "model.fit(X_train, y_train, epochs=5, batch_size=20, validation_split=0.2)\n",
        "\n",
        "loss, accuracy = model.evaluate(X_test, y_test)\n",
        "print(f\"Test Accuracy: {accuracy:.2f}\")"
      ]
    },
    {
      "cell_type": "code",
      "execution_count": null,
      "id": "ed048419-0ed6-4d9c-aaf0-ee023de7bc4f",
      "metadata": {
        "id": "ed048419-0ed6-4d9c-aaf0-ee023de7bc4f"
      },
      "outputs": [],
      "source": [
        "def create_model1(params):\n",
        "    num_layers = int(params[0])\n",
        "    num_neurons = int(params[1])\n",
        "    batch_size = int(params[2])\n",
        "    learning_rate = float(params[3])\n",
        "\n",
        "    model = Sequential()\n",
        "    model.add(Embedding(input_dim=1000, output_dim=64, input_length=100))\n",
        "    model.add(Flatten())\n",
        "\n",
        "    for _ in range(num_layers):\n",
        "        model.add(Dense(num_neurons, activation='relu'))\n",
        "        model.add(Dropout(0.5))\n",
        "\n",
        "    model.add(Dense(labels_categorical.shape[1], activation='softmax'))\n",
        "\n",
        "    optimizer = tf.keras.optimizers.Adam(learning_rate=learning_rate)\n",
        "    model.compile(optimizer=optimizer, loss='categorical_crossentropy', metrics=['accuracy'])\n",
        "\n",
        "    early_stop = EarlyStopping(monitor='val_loss', patience=2, restore_best_weights=True)\n",
        "    model.fit(X_train, y_train, epochs=10, batch_size=batch_size,\n",
        "              validation_split=0.2, verbose=0, callbacks=[early_stop])\n",
        "\n",
        "    _, accuracy = model.evaluate(X_test, y_test, verbose=0)\n",
        "    return -accuracy  # Minimize negative accura"
      ]
    },
    {
      "cell_type": "code",
      "execution_count": null,
      "id": "a1b92744-d190-45f6-9bf4-0f94f31b4e41",
      "metadata": {
        "id": "a1b92744-d190-45f6-9bf4-0f94f31b4e41"
      },
      "outputs": [],
      "source": [
        "def fitness_function(position):\n",
        "    return create_model1(position)\n",
        "\n",
        "# Initialize population\n",
        "def initialize_population(pop_size, dim, lower_bounds, upper_bounds):\n",
        "    return np.random.uniform(lower_bounds, upper_bounds, (pop_size, dim))\n",
        "\n",
        "# Evaluate population\n",
        "def evaluate_population(population):\n",
        "    return np.array([fitness_function(ind) for ind in population])\n"
      ]
    },
    {
      "cell_type": "code",
      "execution_count": null,
      "id": "11c666a5-f1fb-4b3c-bade-de4149bb9104",
      "metadata": {
        "id": "11c666a5-f1fb-4b3c-bade-de4149bb9104"
      },
      "outputs": [],
      "source": [
        "def update_position(position, alpha, beta, delta, a, dim, lower_bounds, upper_bounds):\n",
        "    A1 = 2 * a * np.random.rand(dim) - a\n",
        "    C1 = 2 * np.random.rand(dim)\n",
        "    D_alpha = np.abs(C1 * alpha - position)\n",
        "    X1 = alpha - A1 * D_alpha\n",
        "\n",
        "    A2 = 2 * a * np.random.rand(dim) - a\n",
        "    C2 = 2 * np.random.rand(dim)\n",
        "    D_beta = np.abs(C2 * beta - position)\n",
        "    X2 = beta - A2 * D_beta\n",
        "\n",
        "    A3 = 2 * a * np.random.rand(dim) - a\n",
        "    C3 = 2 * np.random.rand(dim)\n",
        "    D_delta = np.abs(C3 * delta - position)\n",
        "    X3 = delta - A3 * D_delta\n",
        "\n",
        "    new_position = (X1 + X2 + X3) / 3\n",
        "    return np.clip(new_position, lower_bounds, upper_bounds)"
      ]
    },
    {
      "cell_type": "code",
      "execution_count": null,
      "id": "29504f18-2adf-4c8e-8cf9-39fcd04521a2",
      "metadata": {
        "id": "29504f18-2adf-4c8e-8cf9-39fcd04521a2"
      },
      "outputs": [],
      "source": [
        "def grey_wolf_optimizer(epochs, pop_size, dim, lower_bounds, upper_bounds):\n",
        "    population = initialize_population(pop_size, dim, lower_bounds, upper_bounds)\n",
        "    fitness = evaluate_population(population)\n",
        "\n",
        "    alpha, beta, delta = None, None, None\n",
        "    alpha_score, beta_score, delta_score = np.inf, np.inf, np.inf\n",
        "\n",
        "    for iter in range(epochs):\n",
        "        for i in range(pop_size):\n",
        "            if fitness[i] < alpha_score:\n",
        "                delta_score, delta = beta_score, beta\n",
        "                beta_score, beta = alpha_score, alpha\n",
        "                alpha_score, alpha = fitness[i], population[i]\n",
        "            elif fitness[i] < beta_score:\n",
        "                delta_score, delta = beta_score, beta\n",
        "                beta_score, beta = fitness[i], population[i]\n",
        "            elif fitness[i] < delta_score:\n",
        "                delta_score, delta = fitness[i], population[i]\n",
        "\n",
        "        a = 2 - iter * (2 / epochs)\n",
        "        for i in range(pop_size):\n",
        "            population[i] = update_position(population[i], alpha, beta, delta, a, dim, lower_bounds, upper_bounds)\n",
        "        fitness = evaluate_population(population)\n",
        "        print(f\"Iteration {iter+1}: Best Accuracy = {-alpha_score:.4f}\")\n",
        "\n",
        "    return alpha, -alpha_score"
      ]
    },
    {
      "cell_type": "code",
      "execution_count": null,
      "id": "0fa8ca0b-0b51-41af-9e19-ef7ccdc61087",
      "metadata": {
        "id": "0fa8ca0b-0b51-41af-9e19-ef7ccdc61087",
        "outputId": "48e916e3-ce0b-4691-b290-1dba4212444b"
      },
      "outputs": [
        {
          "name": "stdout",
          "output_type": "stream",
          "text": [
            "Iteration 1: Best Accuracy = 0.9217\n",
            "Iteration 2: Best Accuracy = 0.9243\n",
            "Iteration 3: Best Accuracy = 0.9267\n",
            "Iteration 4: Best Accuracy = 0.9267\n",
            "Iteration 5: Best Accuracy = 0.9267\n",
            "Iteration 6: Best Accuracy = 0.9267\n",
            "Iteration 7: Best Accuracy = 0.9267\n",
            "Iteration 8: Best Accuracy = 0.9267\n",
            "Iteration 9: Best Accuracy = 0.9267\n",
            "Iteration 10: Best Accuracy = 0.9267\n",
            "\n",
            "Best Hyperparameters Found:\n",
            "Optimal number of layers: 1\n",
            "Optimal number of neurons: 59\n",
            "Optimal batch size: 40\n",
            "Optimal learning rate: 0.00196\n",
            "Best accuracy: 0.9267\n"
          ]
        }
      ],
      "source": [
        "\n",
        "lower_bounds = np.array([1, 10, 16, 0.0001])  # [layers, neurons, batch size, lr]\n",
        "upper_bounds = np.array([10, 128, 128, 0.01])\n",
        "dim = 4\n",
        "pop_size = 20\n",
        "epochs = 10\n",
        "\n",
        "# Run GWO\n",
        "best_position, best_accuracy = grey_wolf_optimizer(epochs, pop_size, dim, lower_bounds, upper_bounds)\n",
        "\n",
        "# Show results\n",
        "print(\"\\nBest Hyperparameters Found:\")\n",
        "print(f'Optimal number of layers: {int(best_position[0])}')\n",
        "print(f'Optimal number of neurons: {int(best_position[1])}')\n",
        "print(f'Optimal batch size: {int(best_position[2])}')\n",
        "print(f'Optimal learning rate: {best_position[3]:.5f}')\n",
        "print(f'Best accuracy: {best_accuracy:.4f}')\n"
      ]
    },
    {
      "cell_type": "code",
      "execution_count": null,
      "id": "8767cb19-07bd-4927-bba8-ea87d9e50fe1",
      "metadata": {
        "id": "8767cb19-07bd-4927-bba8-ea87d9e50fe1"
      },
      "outputs": [],
      "source": []
    }
  ],
  "metadata": {
    "kernelspec": {
      "display_name": "Python 3 (ipykernel)",
      "language": "python",
      "name": "python3"
    },
    "language_info": {
      "codemirror_mode": {
        "name": "ipython",
        "version": 3
      },
      "file_extension": ".py",
      "mimetype": "text/x-python",
      "name": "python",
      "nbconvert_exporter": "python",
      "pygments_lexer": "ipython3",
      "version": "3.9.18"
    },
    "colab": {
      "provenance": []
    }
  },
  "nbformat": 4,
  "nbformat_minor": 5
}